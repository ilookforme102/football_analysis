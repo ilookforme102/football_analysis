{
 "cells": [
  {
   "cell_type": "code",
   "execution_count": 5,
   "id": "475ed08f-fd12-4616-b928-82bd6a27852b",
   "metadata": {},
   "outputs": [],
   "source": [
    "import json\n",
    "import pandas\n"
   ]
  },
  {
   "cell_type": "code",
   "execution_count": 27,
   "id": "161907b2-8dda-4155-bbda-220de2615d49",
   "metadata": {},
   "outputs": [],
   "source": [
    "test = [{\"competition_id\":\"l965mkyh32r1ge4\",\"competition_name\":\"English Football League Championship\",\"competition_logo\":\"\\/football\\/competition\\/349caefc8ea220e4e840776502a67d90.png\",\"matches\":[{\"match_id\":\"y0or5jhz027dqwz\",\"match_time\":1680885000,\"status_id\":8,\"home_team_id\":\"p3glrw7he6gqdyj\",\"home_name\":\"Sunderland A.F.C\",\"home_logo\":\"\\/football\\/team\\/957bdc50c307e2a9b526b34b3792da1a.png\",\"away_team_id\":\"jednm9wh4d9ryox\",\"away_name\":\"Hull City\",\"away_logo\":\"\\/football\\/team\\/262691204102d2200797f0ac34efb316.png\",\"home_scores\":[4,2,0,0,1,0,0],\"away_scores\":[4,2,0,2,0,0,0]},{\"match_id\":\"jw2r09h6po5orz8\",\"match_time\":1671289200,\"status_id\":8,\"home_team_id\":\"jednm9wh4d9ryox\",\"home_name\":\"Hull City\",\"home_logo\":\"\\/football\\/team\\/262691204102d2200797f0ac34efb316.png\",\"away_team_id\":\"p3glrw7he6gqdyj\",\"away_name\":\"Sunderland A.F.C\",\"away_logo\":\"\\/football\\/team\\/957bdc50c307e2a9b526b34b3792da1a.png\",\"home_scores\":[1,0,0,1,7,0,0],\"away_scores\":[1,0,1,1,4,0,0]},{\"match_id\":\"l7oqdeh19d7zr51\",\"match_time\":1516460400,\"status_id\":8,\"home_team_id\":\"p3glrw7he6gqdyj\",\"home_name\":\"Sunderland A.F.C\",\"home_logo\":\"\\/football\\/team\\/957bdc50c307e2a9b526b34b3792da1a.png\",\"away_team_id\":\"jednm9wh4d9ryox\",\"away_name\":\"Hull City\",\"away_logo\":\"\\/football\\/team\\/262691204102d2200797f0ac34efb316.png\",\"home_scores\":[1,1,0,4,4,0,0],\"away_scores\":[0,0,0,2,7,0,0]},{\"match_id\":\"k82rekh1jn1erep\",\"match_time\":1505570400,\"status_id\":8,\"home_team_id\":\"jednm9wh4d9ryox\",\"home_name\":\"Hull City\",\"home_logo\":\"\\/football\\/team\\/262691204102d2200797f0ac34efb316.png\",\"away_team_id\":\"p3glrw7he6gqdyj\",\"away_name\":\"Sunderland A.F.C\",\"away_logo\":\"\\/football\\/team\\/957bdc50c307e2a9b526b34b3792da1a.png\",\"home_scores\":[1,0,0,2,11,0,0],\"away_scores\":[1,1,0,5,2,0,0]},{\"match_id\":\"1l4rjnh2dl7m7vx\",\"match_time\":1174143600,\"status_id\":8,\"home_team_id\":\"p3glrw7he6gqdyj\",\"home_name\":\"Sunderland A.F.C\",\"home_logo\":\"\\/football\\/team\\/957bdc50c307e2a9b526b34b3792da1a.png\",\"away_team_id\":\"jednm9wh4d9ryox\",\"away_name\":\"Hull City\",\"away_logo\":\"\\/football\\/team\\/262691204102d2200797f0ac34efb316.png\",\"home_scores\":[2,1,0,0,0,0,0],\"away_scores\":[0,0,0,0,0,0,0]},{\"match_id\":\"l5ergph27k8r8k0\",\"match_time\":1162044000,\"status_id\":8,\"home_team_id\":\"jednm9wh4d9ryox\",\"home_name\":\"Hull City\",\"home_logo\":\"\\/football\\/team\\/262691204102d2200797f0ac34efb316.png\",\"away_team_id\":\"p3glrw7he6gqdyj\",\"away_name\":\"Sunderland A.F.C\",\"away_logo\":\"\\/football\\/team\\/957bdc50c307e2a9b526b34b3792da1a.png\",\"home_scores\":[0,0,0,0,0,0,0],\"away_scores\":[1,0,1,0,0,0,0]}]},{\"competition_id\":\"8y39mp1hjzmojxg\",\"competition_name\":\"English Football League One\",\"competition_logo\":\"\\/football\\/competition\\/89d1cc40d46c553cb311b8220bfa3d5d.png\",\"matches\":[{\"match_id\":\"zp5rzghw0pwpq82\",\"match_time\":1618944300,\"status_id\":8,\"home_team_id\":\"jednm9wh4d9ryox\",\"home_name\":\"Hull City\",\"home_logo\":\"\\/football\\/team\\/262691204102d2200797f0ac34efb316.png\",\"away_team_id\":\"p3glrw7he6gqdyj\",\"away_name\":\"Sunderland A.F.C\",\"away_logo\":\"\\/football\\/team\\/957bdc50c307e2a9b526b34b3792da1a.png\",\"home_scores\":[2,1,0,2,7,0,0],\"away_scores\":[2,2,0,3,5,0,0]},{\"match_id\":\"dn1m1gh0kn5wmoe\",\"match_time\":1610221500,\"status_id\":8,\"home_team_id\":\"p3glrw7he6gqdyj\",\"home_name\":\"Sunderland A.F.C\",\"home_logo\":\"\\/football\\/team\\/957bdc50c307e2a9b526b34b3792da1a.png\",\"away_team_id\":\"jednm9wh4d9ryox\",\"away_name\":\"Hull City\",\"away_logo\":\"\\/football\\/team\\/262691204102d2200797f0ac34efb316.png\",\"home_scores\":[1,1,0,1,6,0,0],\"away_scores\":[1,1,0,1,5,0,0]}]},{\"competition_id\":\"gx7lm7phw0m2wdk\",\"competition_name\":\"English Carabao Cup\",\"competition_logo\":\"\\/football\\/competition\\/8aa596d6e755efdca6776d946ebfcd32.png\",\"matches\":[{\"match_id\":\"y39mp1h4pkdjmoj\",\"match_time\":1599314400,\"status_id\":8,\"home_team_id\":\"p3glrw7he6gqdyj\",\"home_name\":\"Sunderland A.F.C\",\"home_logo\":\"\\/football\\/team\\/957bdc50c307e2a9b526b34b3792da1a.png\",\"away_team_id\":\"jednm9wh4d9ryox\",\"away_name\":\"Hull City\",\"away_logo\":\"\\/football\\/team\\/262691204102d2200797f0ac34efb316.png\",\"home_scores\":[0,0,0,1,3,0,4],\"away_scores\":[0,0,0,2,5,0,5]}]},{\"competition_id\":\"jednm9whz0ryox8\",\"competition_name\":\"English Premier League\",\"competition_logo\":\"\\/football\\/competition\\/d3cd84441d4de605d84a14521ef56920.png\",\"matches\":[{\"match_id\":\"318q66hkzl5lqo9\",\"match_time\":1494079200,\"status_id\":8,\"home_team_id\":\"jednm9wh4d9ryox\",\"home_name\":\"Hull City\",\"home_logo\":\"\\/football\\/team\\/262691204102d2200797f0ac34efb316.png\",\"away_team_id\":\"p3glrw7he6gqdyj\",\"away_name\":\"Sunderland A.F.C\",\"away_logo\":\"\\/football\\/team\\/957bdc50c307e2a9b526b34b3792da1a.png\",\"home_scores\":[0,0,0,3,7,0,0],\"away_scores\":[2,0,0,1,4,0,0]},{\"match_id\":\"8yomo4hzen3dq0j\",\"match_time\":1479567600,\"status_id\":8,\"home_team_id\":\"p3glrw7he6gqdyj\",\"home_name\":\"Sunderland A.F.C\",\"home_logo\":\"\\/football\\/team\\/957bdc50c307e2a9b526b34b3792da1a.png\",\"away_team_id\":\"jednm9wh4d9ryox\",\"away_name\":\"Hull City\",\"away_logo\":\"\\/football\\/team\\/262691204102d2200797f0ac34efb316.png\",\"home_scores\":[3,1,1,3,2,0,0],\"away_scores\":[0,0,0,0,8,0,0]},{\"match_id\":\"vjxm8gh297zr6od\",\"match_time\":1425411900,\"status_id\":8,\"home_team_id\":\"jednm9wh4d9ryox\",\"home_name\":\"Hull City\",\"home_logo\":\"\\/football\\/team\\/262691204102d2200797f0ac34efb316.png\",\"away_team_id\":\"p3glrw7he6gqdyj\",\"away_name\":\"Sunderland A.F.C\",\"away_logo\":\"\\/football\\/team\\/957bdc50c307e2a9b526b34b3792da1a.png\",\"home_scores\":[1,1,0,2,6,0,0],\"away_scores\":[1,0,0,6,4,0,0]},{\"match_id\":\"318q66h7n64qo9j\",\"match_time\":1419606000,\"status_id\":8,\"home_team_id\":\"p3glrw7he6gqdyj\",\"home_name\":\"Sunderland A.F.C\",\"home_logo\":\"\\/football\\/team\\/957bdc50c307e2a9b526b34b3792da1a.png\",\"away_team_id\":\"jednm9wh4d9ryox\",\"away_name\":\"Hull City\",\"away_logo\":\"\\/football\\/team\\/262691204102d2200797f0ac34efb316.png\",\"home_scores\":[1,1,0,5,10,0,0],\"away_scores\":[3,1,0,2,4,0,0]},{\"match_id\":\"l7oqdehejnnr510\",\"match_time\":1391871600,\"status_id\":8,\"home_team_id\":\"p3glrw7he6gqdyj\",\"home_name\":\"Sunderland A.F.C\",\"home_logo\":\"\\/football\\/team\\/957bdc50c307e2a9b526b34b3792da1a.png\",\"away_team_id\":\"jednm9wh4d9ryox\",\"away_name\":\"Hull City\",\"away_logo\":\"\\/football\\/team\\/262691204102d2200797f0ac34efb316.png\",\"home_scores\":[0,0,1,1,2,0,0],\"away_scores\":[2,1,0,3,6,0,0]},{\"match_id\":\"3glrw7hln81qdyj\",\"match_time\":1383404400,\"status_id\":8,\"home_team_id\":\"jednm9wh4d9ryox\",\"home_name\":\"Hull City\",\"home_logo\":\"\\/football\\/team\\/262691204102d2200797f0ac34efb316.png\",\"away_team_id\":\"p3glrw7he6gqdyj\",\"away_name\":\"Sunderland A.F.C\",\"away_logo\":\"\\/football\\/team\\/957bdc50c307e2a9b526b34b3792da1a.png\",\"home_scores\":[1,1,0,2,4,0,0],\"away_scores\":[0,0,2,0,2,0,0]},{\"match_id\":\"4jwq2gh0e0nm0ve\",\"match_time\":1272117600,\"status_id\":8,\"home_team_id\":\"jednm9wh4d9ryox\",\"home_name\":\"Hull City\",\"home_logo\":\"\\/football\\/team\\/262691204102d2200797f0ac34efb316.png\",\"away_team_id\":\"p3glrw7he6gqdyj\",\"away_name\":\"Sunderland A.F.C\",\"away_logo\":\"\\/football\\/team\\/957bdc50c307e2a9b526b34b3792da1a.png\",\"home_scores\":[0,0,1,1,0,0,0],\"away_scores\":[1,1,1,3,0,0,0]},{\"match_id\":\"k82rekh80p9repz\",\"match_time\":1252764000,\"status_id\":8,\"home_team_id\":\"p3glrw7he6gqdyj\",\"home_name\":\"Sunderland A.F.C\",\"home_logo\":\"\\/football\\/team\\/957bdc50c307e2a9b526b34b3792da1a.png\",\"away_team_id\":\"jednm9wh4d9ryox\",\"away_name\":\"Hull City\",\"away_logo\":\"\\/football\\/team\\/262691204102d2200797f0ac34efb316.png\",\"home_scores\":[4,1,0,2,0,0,0],\"away_scores\":[1,1,0,2,0,0,0]},{\"match_id\":\"x7lm7ph55e1m2wd\",\"match_time\":1240063200,\"status_id\":8,\"home_team_id\":\"p3glrw7he6gqdyj\",\"home_name\":\"Sunderland A.F.C\",\"home_logo\":\"\\/football\\/team\\/957bdc50c307e2a9b526b34b3792da1a.png\",\"away_team_id\":\"jednm9wh4d9ryox\",\"away_name\":\"Hull City\",\"away_logo\":\"\\/football\\/team\\/262691204102d2200797f0ac34efb316.png\",\"home_scores\":[1,1,0,2,0,0,0],\"away_scores\":[0,0,0,3,0,0,0]},{\"match_id\":\"965mkyhggdnr1ge\",\"match_time\":1229785200,\"status_id\":8,\"home_team_id\":\"jednm9wh4d9ryox\",\"home_name\":\"Hull City\",\"home_logo\":\"\\/football\\/team\\/262691204102d2200797f0ac34efb316.png\",\"away_team_id\":\"p3glrw7he6gqdyj\",\"away_name\":\"Sunderland A.F.C\",\"away_logo\":\"\\/football\\/team\\/957bdc50c307e2a9b526b34b3792da1a.png\",\"home_scores\":[1,1,1,2,0,0,0],\"away_scores\":[4,1,0,0,0,0,0]}]},{\"competition_id\":\"9vjxm8gh8gr6odg\",\"competition_name\":\"English FA Cup\",\"competition_logo\":\"\\/football\\/competition\\/72a855055e78bf040a26745225c8e1ec.png\",\"matches\":[{\"match_id\":\"2y8m4zhpld0ql07\",\"match_time\":1394373600,\"status_id\":8,\"home_team_id\":\"jednm9wh4d9ryox\",\"home_name\":\"Hull City\",\"home_logo\":\"\\/football\\/team\\/262691204102d2200797f0ac34efb316.png\",\"away_team_id\":\"p3glrw7he6gqdyj\",\"away_name\":\"Sunderland A.F.C\",\"away_logo\":\"\\/football\\/team\\/957bdc50c307e2a9b526b34b3792da1a.png\",\"home_scores\":[3,0,0,1,0,0,0],\"away_scores\":[0,0,0,2,0,0,0]}]},{\"competition_id\":\"gpxwrxlhgpryk0j\",\"competition_name\":\"International Club Friendly\",\"competition_logo\":\"\\/football\\/competition\\/2440249cd19586c39de8e05d55cc6b0d.png\",\"matches\":[{\"match_id\":\"l5ergph38644r8k\",\"match_time\":1279999800,\"status_id\":8,\"home_team_id\":\"p3glrw7he6gqdyj\",\"home_name\":\"Sunderland A.F.C\",\"home_logo\":\"\\/football\\/team\\/957bdc50c307e2a9b526b34b3792da1a.png\",\"away_team_id\":\"jednm9wh4d9ryox\",\"away_name\":\"Hull City\",\"away_logo\":\"\\/football\\/team\\/262691204102d2200797f0ac34efb316.png\",\"home_scores\":[4,4,0,0,0,0,0],\"away_scores\":[2,1,0,0,0,0,0]},{\"match_id\":\"3glrw7hlk8o9qdy\",\"match_time\":1122489900,\"status_id\":8,\"home_team_id\":\"jednm9wh4d9ryox\",\"home_name\":\"Hull City\",\"home_logo\":\"\\/football\\/team\\/262691204102d2200797f0ac34efb316.png\",\"away_team_id\":\"p3glrw7he6gqdyj\",\"away_name\":\"Sunderland A.F.C\",\"away_logo\":\"\\/football\\/team\\/957bdc50c307e2a9b526b34b3792da1a.png\",\"home_scores\":[1,1,0,0,0,0,0],\"away_scores\":[0,0,0,0,0,0,0]}]}]"
   ]
  },
  {
   "cell_type": "code",
   "execution_count": 28,
   "id": "815c83b9-f3c8-4db6-926e-4d736cf817a2",
   "metadata": {},
   "outputs": [
    {
     "data": {
      "text/plain": [
       "{'competition_id': 'l965mkyh32r1ge4',\n",
       " 'competition_name': 'English Football League Championship',\n",
       " 'competition_logo': '\\\\/football\\\\/competition\\\\/349caefc8ea220e4e840776502a67d90.png',\n",
       " 'matches': [{'match_id': 'y0or5jhz027dqwz',\n",
       "   'match_time': 1680885000,\n",
       "   'status_id': 8,\n",
       "   'home_team_id': 'p3glrw7he6gqdyj',\n",
       "   'home_name': 'Sunderland A.F.C',\n",
       "   'home_logo': '\\\\/football\\\\/team\\\\/957bdc50c307e2a9b526b34b3792da1a.png',\n",
       "   'away_team_id': 'jednm9wh4d9ryox',\n",
       "   'away_name': 'Hull City',\n",
       "   'away_logo': '\\\\/football\\\\/team\\\\/262691204102d2200797f0ac34efb316.png',\n",
       "   'home_scores': [4, 2, 0, 0, 1, 0, 0],\n",
       "   'away_scores': [4, 2, 0, 2, 0, 0, 0]},\n",
       "  {'match_id': 'jw2r09h6po5orz8',\n",
       "   'match_time': 1671289200,\n",
       "   'status_id': 8,\n",
       "   'home_team_id': 'jednm9wh4d9ryox',\n",
       "   'home_name': 'Hull City',\n",
       "   'home_logo': '\\\\/football\\\\/team\\\\/262691204102d2200797f0ac34efb316.png',\n",
       "   'away_team_id': 'p3glrw7he6gqdyj',\n",
       "   'away_name': 'Sunderland A.F.C',\n",
       "   'away_logo': '\\\\/football\\\\/team\\\\/957bdc50c307e2a9b526b34b3792da1a.png',\n",
       "   'home_scores': [1, 0, 0, 1, 7, 0, 0],\n",
       "   'away_scores': [1, 0, 1, 1, 4, 0, 0]},\n",
       "  {'match_id': 'l7oqdeh19d7zr51',\n",
       "   'match_time': 1516460400,\n",
       "   'status_id': 8,\n",
       "   'home_team_id': 'p3glrw7he6gqdyj',\n",
       "   'home_name': 'Sunderland A.F.C',\n",
       "   'home_logo': '\\\\/football\\\\/team\\\\/957bdc50c307e2a9b526b34b3792da1a.png',\n",
       "   'away_team_id': 'jednm9wh4d9ryox',\n",
       "   'away_name': 'Hull City',\n",
       "   'away_logo': '\\\\/football\\\\/team\\\\/262691204102d2200797f0ac34efb316.png',\n",
       "   'home_scores': [1, 1, 0, 4, 4, 0, 0],\n",
       "   'away_scores': [0, 0, 0, 2, 7, 0, 0]},\n",
       "  {'match_id': 'k82rekh1jn1erep',\n",
       "   'match_time': 1505570400,\n",
       "   'status_id': 8,\n",
       "   'home_team_id': 'jednm9wh4d9ryox',\n",
       "   'home_name': 'Hull City',\n",
       "   'home_logo': '\\\\/football\\\\/team\\\\/262691204102d2200797f0ac34efb316.png',\n",
       "   'away_team_id': 'p3glrw7he6gqdyj',\n",
       "   'away_name': 'Sunderland A.F.C',\n",
       "   'away_logo': '\\\\/football\\\\/team\\\\/957bdc50c307e2a9b526b34b3792da1a.png',\n",
       "   'home_scores': [1, 0, 0, 2, 11, 0, 0],\n",
       "   'away_scores': [1, 1, 0, 5, 2, 0, 0]},\n",
       "  {'match_id': '1l4rjnh2dl7m7vx',\n",
       "   'match_time': 1174143600,\n",
       "   'status_id': 8,\n",
       "   'home_team_id': 'p3glrw7he6gqdyj',\n",
       "   'home_name': 'Sunderland A.F.C',\n",
       "   'home_logo': '\\\\/football\\\\/team\\\\/957bdc50c307e2a9b526b34b3792da1a.png',\n",
       "   'away_team_id': 'jednm9wh4d9ryox',\n",
       "   'away_name': 'Hull City',\n",
       "   'away_logo': '\\\\/football\\\\/team\\\\/262691204102d2200797f0ac34efb316.png',\n",
       "   'home_scores': [2, 1, 0, 0, 0, 0, 0],\n",
       "   'away_scores': [0, 0, 0, 0, 0, 0, 0]},\n",
       "  {'match_id': 'l5ergph27k8r8k0',\n",
       "   'match_time': 1162044000,\n",
       "   'status_id': 8,\n",
       "   'home_team_id': 'jednm9wh4d9ryox',\n",
       "   'home_name': 'Hull City',\n",
       "   'home_logo': '\\\\/football\\\\/team\\\\/262691204102d2200797f0ac34efb316.png',\n",
       "   'away_team_id': 'p3glrw7he6gqdyj',\n",
       "   'away_name': 'Sunderland A.F.C',\n",
       "   'away_logo': '\\\\/football\\\\/team\\\\/957bdc50c307e2a9b526b34b3792da1a.png',\n",
       "   'home_scores': [0, 0, 0, 0, 0, 0, 0],\n",
       "   'away_scores': [1, 0, 1, 0, 0, 0, 0]}]}"
      ]
     },
     "execution_count": 28,
     "metadata": {},
     "output_type": "execute_result"
    }
   ],
   "source": [
    "test[0]"
   ]
  },
  {
   "cell_type": "code",
   "execution_count": 29,
   "id": "0dacc57e-7d34-4801-815b-fbfaf620fa56",
   "metadata": {},
   "outputs": [],
   "source": [
    "all_match = [match for match in test[0]['matches']]"
   ]
  },
  {
   "cell_type": "code",
   "execution_count": 30,
   "id": "06ff83af-f269-4857-936b-73fa6cb9a45a",
   "metadata": {},
   "outputs": [],
   "source": [
    "sorted_maches = sorted(all_match, key = lambda x: x['match_time'], reverse = True)"
   ]
  },
  {
   "cell_type": "code",
   "execution_count": 32,
   "id": "e1c6d929-cdd7-46c8-a016-82fd34869a65",
   "metadata": {},
   "outputs": [
    {
     "data": {
      "text/plain": [
       "[{'match_id': 'y0or5jhz027dqwz',\n",
       "  'match_time': 1680885000,\n",
       "  'status_id': 8,\n",
       "  'home_team_id': 'p3glrw7he6gqdyj',\n",
       "  'home_name': 'Sunderland A.F.C',\n",
       "  'home_logo': '\\\\/football\\\\/team\\\\/957bdc50c307e2a9b526b34b3792da1a.png',\n",
       "  'away_team_id': 'jednm9wh4d9ryox',\n",
       "  'away_name': 'Hull City',\n",
       "  'away_logo': '\\\\/football\\\\/team\\\\/262691204102d2200797f0ac34efb316.png',\n",
       "  'home_scores': [4, 2, 0, 0, 1, 0, 0],\n",
       "  'away_scores': [4, 2, 0, 2, 0, 0, 0]},\n",
       " {'match_id': 'jw2r09h6po5orz8',\n",
       "  'match_time': 1671289200,\n",
       "  'status_id': 8,\n",
       "  'home_team_id': 'jednm9wh4d9ryox',\n",
       "  'home_name': 'Hull City',\n",
       "  'home_logo': '\\\\/football\\\\/team\\\\/262691204102d2200797f0ac34efb316.png',\n",
       "  'away_team_id': 'p3glrw7he6gqdyj',\n",
       "  'away_name': 'Sunderland A.F.C',\n",
       "  'away_logo': '\\\\/football\\\\/team\\\\/957bdc50c307e2a9b526b34b3792da1a.png',\n",
       "  'home_scores': [1, 0, 0, 1, 7, 0, 0],\n",
       "  'away_scores': [1, 0, 1, 1, 4, 0, 0]},\n",
       " {'match_id': 'l7oqdeh19d7zr51',\n",
       "  'match_time': 1516460400,\n",
       "  'status_id': 8,\n",
       "  'home_team_id': 'p3glrw7he6gqdyj',\n",
       "  'home_name': 'Sunderland A.F.C',\n",
       "  'home_logo': '\\\\/football\\\\/team\\\\/957bdc50c307e2a9b526b34b3792da1a.png',\n",
       "  'away_team_id': 'jednm9wh4d9ryox',\n",
       "  'away_name': 'Hull City',\n",
       "  'away_logo': '\\\\/football\\\\/team\\\\/262691204102d2200797f0ac34efb316.png',\n",
       "  'home_scores': [1, 1, 0, 4, 4, 0, 0],\n",
       "  'away_scores': [0, 0, 0, 2, 7, 0, 0]},\n",
       " {'match_id': 'k82rekh1jn1erep',\n",
       "  'match_time': 1505570400,\n",
       "  'status_id': 8,\n",
       "  'home_team_id': 'jednm9wh4d9ryox',\n",
       "  'home_name': 'Hull City',\n",
       "  'home_logo': '\\\\/football\\\\/team\\\\/262691204102d2200797f0ac34efb316.png',\n",
       "  'away_team_id': 'p3glrw7he6gqdyj',\n",
       "  'away_name': 'Sunderland A.F.C',\n",
       "  'away_logo': '\\\\/football\\\\/team\\\\/957bdc50c307e2a9b526b34b3792da1a.png',\n",
       "  'home_scores': [1, 0, 0, 2, 11, 0, 0],\n",
       "  'away_scores': [1, 1, 0, 5, 2, 0, 0]},\n",
       " {'match_id': '1l4rjnh2dl7m7vx',\n",
       "  'match_time': 1174143600,\n",
       "  'status_id': 8,\n",
       "  'home_team_id': 'p3glrw7he6gqdyj',\n",
       "  'home_name': 'Sunderland A.F.C',\n",
       "  'home_logo': '\\\\/football\\\\/team\\\\/957bdc50c307e2a9b526b34b3792da1a.png',\n",
       "  'away_team_id': 'jednm9wh4d9ryox',\n",
       "  'away_name': 'Hull City',\n",
       "  'away_logo': '\\\\/football\\\\/team\\\\/262691204102d2200797f0ac34efb316.png',\n",
       "  'home_scores': [2, 1, 0, 0, 0, 0, 0],\n",
       "  'away_scores': [0, 0, 0, 0, 0, 0, 0]}]"
      ]
     },
     "execution_count": 32,
     "metadata": {},
     "output_type": "execute_result"
    }
   ],
   "source": [
    "sorted_maches[0:5]"
   ]
  },
  {
   "cell_type": "code",
   "execution_count": null,
   "id": "5c49b5f0-e774-4224-b2f8-61f162e2336e",
   "metadata": {},
   "outputs": [],
   "source": []
  }
 ],
 "metadata": {
  "kernelspec": {
   "display_name": "Python 3 (ipykernel)",
   "language": "python",
   "name": "python3"
  },
  "language_info": {
   "codemirror_mode": {
    "name": "ipython",
    "version": 3
   },
   "file_extension": ".py",
   "mimetype": "text/x-python",
   "name": "python",
   "nbconvert_exporter": "python",
   "pygments_lexer": "ipython3",
   "version": "3.11.5"
  }
 },
 "nbformat": 4,
 "nbformat_minor": 5
}
