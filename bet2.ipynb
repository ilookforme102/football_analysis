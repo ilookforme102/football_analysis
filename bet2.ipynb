{
 "cells": [
  {
   "cell_type": "code",
   "execution_count": 1,
   "id": "aa5e45ca-e85b-4030-86a4-69b7040bc3e2",
   "metadata": {},
   "outputs": [],
   "source": [
    "import time\n",
    "import numpy as np\n",
    "import json\n",
    "import math\n",
    "import pymysql"
   ]
  },
  {
   "cell_type": "code",
   "execution_count": null,
   "id": "351b4bbb-40fb-4bc2-ab06-be64fcef11a1",
   "metadata": {},
   "outputs": [],
   "source": [
    "SELECT SUM( market_value) FROM `wpdbtt_api_player`\n",
    "WHERE market_value != 0  and team_id = 'p4jwq2ghd57m0ve';\n",
    "SELECT COUNT( player_id) FROM `wpdbtt_api_player`\n",
    "WHERE market_value != 0  and team_id = 'p4jwq2ghd57m0ve';"
   ]
  },
  {
   "cell_type": "code",
   "execution_count": null,
   "id": "2fb4fe61-e0e1-4027-bf6f-ae6be0bccc23",
   "metadata": {},
   "outputs": [],
   "source": [
    "SELECT * FROM `wpdbtt_api_matches` m\n",
    "LEFT JOIN`wpdbtt_api_venue` v\n",
    "ON m.venue_id = v.venue_id\n",
    "LEFT JOIN `wpdbtt_api_lineup` l \n",
    "ON l.match_id = m.id \n",
    "LEFT JOIN `wpdbtt_api_match_h2h` h \n",
    "ON h.match_id = m.id \n",
    "LEFT JOIN `wpdbtt_api_team_stats` s \n",
    "ON m.id = s.match_id\n",
    "LEFT JOIN `wpdbtt_api_team` t\n",
    "ON m.home_team_id = t.team_id \n",
    "LEFT JOIN `wpdbtt_api_team` t2\n",
    "ON m.away_team_id = t2.team_id\n",
    "LEFT JOIN `wpdbtt_api_coach` c \n",
    "ON c.team_id = m.home_team_id\n",
    "LEFT JOIN `wpdbtt_api_coach` c2\n",
    "ON c2.team_id = m.away_team_id;"
   ]
  },
  {
   "cell_type": "code",
   "execution_count": null,
   "id": "7415699a-b5c8-4d60-be40-5c4a7bb776c2",
   "metadata": {},
   "outputs": [],
   "source": [
    "SELECT \n",
    "    m.id, \n",
    "    m.competition_id, \n",
    "    m.home_team_id, \n",
    "    m.away_team_id,\n",
    "    t.name AS home_name, \n",
    "    t2.team_id AS away_team_id, \n",
    "    t2.name AS away_name, \n",
    "    m.match_time, \n",
    "    m.venue_id, \n",
    "    v.name, \n",
    "    v.city, \n",
    "    v.country, \n",
    "    v.capacity, \n",
    "    m.neutral,\n",
    "    m.home_position, \n",
    "    m.away_position, \n",
    "    l.away_formation, \n",
    "    l.home_formation, \n",
    "    l.injury, \n",
    "    l.lineup, \n",
    "    h.h2h, \n",
    "    h.home, \n",
    "    h.away, \n",
    "    s.home_stats, \n",
    "    s.away_stats, \n",
    "    c.coach_id AS home_coach_id, \n",
    "    c.name AS home_coach_name, \n",
    "    c.birthday AS home_coach_dob, \n",
    "    c.preferred_formation AS home_coach_preferred_formation, \n",
    "    c.nationality AS home_coach_nationality,\n",
    "    c2.coach_id AS away_coach_id, \n",
    "    c2.name AS away_coach_name, \n",
    "    c2.birthday AS away_coach_dob, \n",
    "    c2.preferred_formation AS away_coach_preferred_formation, \n",
    "    c2.nationality AS away_coach_nationality\n",
    "FROM \n",
    "    `wpdbtt_api_matches` m\n",
    "    LEFT JOIN `wpdbtt_api_venue` v ON m.venue_id = v.venue_id\n",
    "    LEFT JOIN `wpdbtt_api_lineup` l ON l.match_id = m.id \n",
    "    LEFT JOIN `wpdbtt_api_match_h2h` h ON h.match_id = m.id \n",
    "    LEFT JOIN `wpdbtt_api_team_stats` s ON m.id = s.match_id\n",
    "    LEFT JOIN `wpdbtt_api_team` t ON m.home_team_id = t.team_id \n",
    "    LEFT JOIN `wpdbtt_api_team` t2 ON m.away_team_id = t2.team_id\n",
    "    LEFT JOIN `wpdbtt_api_coach` c ON c.team_id = m.home_team_id\n",
    "    LEFT JOIN `wpdbtt_api_coach` c2 ON c2.team_id = m.away_team_id;"
   ]
  },
  {
   "cell_type": "code",
   "execution_count": null,
   "id": "1feaf7ea-653e-4bd5-9a1c-a63277a697a0",
   "metadata": {},
   "outputs": [],
   "source": [
    "SELECT m.id, m.competition_id, m.home_team_id, m.away_team_id,t.name as home_name, t2.team_id as away_team_id, t2.name as away_name, m.match_time, m.venue_id, v.name, v.city, v.country, v.capacity, m.neutral,m.home_position, m.away_position, l.away_formation, l.home_formation, l.injury, l.lineup, h.h2h, h.home, h.away, s.home_stats, s.away_stats, c.coach_id home_coach_id, c.name home_coach_name, c.birthday home_coach_dob, c.preferred_formation home_coach_preferred_formation, c.nationality home_coach_nationality,\n",
    "c2.coach_id away_coach_id, c2.name away_coach_name, c2.birthday away_coach_dob, c2.preferred_formation away_coach_preferred_formation, c2.nationality away_coach_nationality\n",
    "FROM `wpdbtt_api_matches` m\n",
    "LEFT JOIN`wpdbtt_api_venue` v\n",
    "ON m.venue_id = v.venue_id\n",
    "LEFT JOIN `wpdbtt_api_lineup` l \n",
    "ON l.match_id = m.id \n",
    "LEFT JOIN `wpdbtt_api_match_h2h` h \n",
    "ON h.match_id = m.id \n",
    "LEFT JOIN `wpdbtt_api_team_stats` s \n",
    "ON m.id = s.match_id\n",
    "LEFT JOIN `wpdbtt_api_team` t\n",
    "ON m.home_team_id = t.team_id \n",
    "LEFT JOIN `wpdbtt_api_team` t2\n",
    "ON m.away_team_id = t2.team_id\n",
    "LEFT JOIN `wpdbtt_api_coach` c \n",
    "ON c.team_id = m.home_team_id\n",
    "LEFT JOIN `wpdbtt_api_coach` c2\n",
    "ON c2.team_id = m.away_team_id;"
   ]
  },
  {
   "cell_type": "code",
   "execution_count": 6,
   "id": "f73ede19-7d7b-44a2-9d41-1f4c22287941",
   "metadata": {},
   "outputs": [
    {
     "ename": "SyntaxError",
     "evalue": "invalid syntax (346392998.py, line 1)",
     "output_type": "error",
     "traceback": [
      "\u001b[1;36m  Cell \u001b[1;32mIn[6], line 1\u001b[1;36m\u001b[0m\n\u001b[1;33m    SELECT m.id, m.competition_id, m.home_team_id, m.away_team_id,t.name as home_name, t2.team_id as away_team_id, t2.name as away_name, m.match_time, m.venue_id, v.name, v.city, v.country, v.capacity, m.neutral,m.home_position, m.away_position, l.away_formation, l.home_formation, l.injury, l.lineup, h.h2h, h.home, h.away, s.home_stats, s.away_stats, c.coach_id home_coach_id, c.name home_coach_name, c.birthday home_coach_dob,c.age age_coach, c.preferred_formation home_coach_preferred_formation, c.nationality home_coach_nationality,\u001b[0m\n\u001b[1;37m           ^\u001b[0m\n\u001b[1;31mSyntaxError\u001b[0m\u001b[1;31m:\u001b[0m invalid syntax\n"
     ]
    }
   ],
   "source": [
    "SELECT m.id, m.competition_id, m.home_team_id, m.away_team_id,t.name as home_name, t2.team_id as away_team_id, t2.name as away_name, m.match_time, m.venue_id, v.name, v.city, v.country, v.capacity, m.neutral,m.home_position, m.away_position, l.away_formation, l.home_formation, l.injury, l.lineup, h.h2h, h.home, h.away, s.home_stats, s.away_stats, c.coach_id home_coach_id, c.name home_coach_name, c.birthday home_coach_dob,c.age age_coach, c.preferred_formation home_coach_preferred_formation, c.nationality home_coach_nationality,\n",
    "c2.coach_id away_coach_id, c2.name away_coach_name, c2.birthday away_coach_dob, c2.preferred_formation away_coach_preferred_formation, c2.nationality away_coach_nationality, m.home_scores, m.away_scores\n",
    "FROM `wpdbtt_api_matches` m\n",
    "LEFT JOIN`wpdbtt_api_venue` v\n",
    "ON m.venue_id = v.venue_id\n",
    "LEFT JOIN `wpdbtt_api_lineup` l \n",
    "ON l.match_id = m.id \n",
    "LEFT JOIN `wpdbtt_api_match_h2h` h \n",
    "ON h.match_id = m.id \n",
    "LEFT JOIN `wpdbtt_api_team_stats` s \n",
    "ON m.id = s.match_id\n",
    "LEFT JOIN `wpdbtt_api_team` t\n",
    "ON m.home_team_id = t.team_id \n",
    "LEFT JOIN `wpdbtt_api_team` t2\n",
    "ON m.away_team_id = t2.team_id\n",
    "LEFT JOIN `wpdbtt_api_coach` c \n",
    "ON c.team_id = m.home_team_id\n",
    "LEFT JOIN `wpdbtt_api_coach` c2\n",
    "ON c2.team_id = m.away_team_id;"
   ]
  },
  {
   "cell_type": "code",
   "execution_count": null,
   "id": "db4bd556-64b3-47bf-9473-d76cd5712101",
   "metadata": {},
   "outputs": [],
   "source": [
    "SELECT * \n",
    "FROM \n",
    "    (SELECT \n",
    "        m.id, \n",
    "        m.competition_id, \n",
    "        m.home_team_id, \n",
    "        m.away_team_id,\n",
    "        t.name AS home_name, \n",
    "        t2.name AS away_name, \n",
    "        m.match_time, \n",
    "        m.venue_id, \n",
    "        v.name, \n",
    "        v.city, \n",
    "        v.country, \n",
    "        v.capacity, \n",
    "        m.neutral,\n",
    "        m.home_position, \n",
    "        m.away_position, \n",
    "        l.away_formation, \n",
    "        l.home_formation, \n",
    "        l.injury, \n",
    "        l.lineup, \n",
    "        h.h2h, \n",
    "        h.home, \n",
    "        h.away, \n",
    "        s.home_stats, \n",
    "        s.away_stats, \n",
    "        c.coach_id AS home_coach_id, \n",
    "        c.name AS home_coach_name, \n",
    "        c.birthday AS home_coach_dob, \n",
    "        c.preferred_formation AS home_coach_preferred_formation, \n",
    "        c.nationality AS home_coach_nationality,\n",
    "        c2.coach_id AS away_coach_id, \n",
    "        c2.name AS away_coach_name, \n",
    "        c2.birthday AS away_coach_dob, \n",
    "        c2.preferred_formation AS away_coach_preferred_formation, \n",
    "        c2.nationality AS away_coach_nationality\n",
    "    FROM \n",
    "        `wpdbtt_api_matches` m\n",
    "        LEFT JOIN `wpdbtt_api_venue` v ON m.venue_id = v.venue_id\n",
    "        LEFT JOIN `wpdbtt_api_lineup` l ON l.match_id = m.id \n",
    "        LEFT JOIN `wpdbtt_api_match_h2h` h ON h.match_id = m.id \n",
    "        LEFT JOIN `wpdbtt_api_team_stats` s ON m.id = s.match_id\n",
    "        LEFT JOIN `wpdbtt_api_team` t ON m.home_team_id = t.team_id \n",
    "        LEFT JOIN `wpdbtt_api_team` t2 ON m.away_team_id = t2.team_id\n",
    "        LEFT JOIN `wpdbtt_api_coach` c ON c.team_id = m.home_team_id\n",
    "        LEFT JOIN `wpdbtt_api_coach` c2 ON c2.team_id = m.away_team_id\n",
    "    ) AS table1\n",
    "LEFT JOIN `wpdbtt_api_player` home_player ON home_player.team_id = table1.home_team_id;"
   ]
  },
  {
   "cell_type": "code",
   "execution_count": null,
   "id": "54ba6319-0d99-4aa6-bd8c-151b0562894d",
   "metadata": {},
   "outputs": [],
   "source": [
    "#player with valid contract\n",
    "SELECT player_id, team_id, name, age, birthday, weight, height, nationality, market_value, contract_until, preferred_foot, ability, characteristics,position, positions FROM `wpdbtt_api_player`\n",
    "WHERE contract_until != 0;"
   ]
  },
  {
   "cell_type": "code",
   "execution_count": null,
   "id": "e5eab2ed-bc3f-44d4-9d08-dcf051b5c168",
   "metadata": {},
   "outputs": [],
   "source": [
    "#count team\n",
    "SELECT AVG(AGE), AVG(weight), AVG(height), SUM(market_value) FROM (SELECT player_id, team_id, name, TIMESTAMPDIFF(YEAR, FROM_UNIXTIME(birthday), CURDATE()) as AGE, weight, height, nationality, market_value, contract_until, preferred_foot, ability, characteristics,position, positions FROM `wpdbtt_api_player`\n",
    "WHERE contract_until != 0) as tb1\n",
    "GROUP BY team_id;"
   ]
  },
  {
   "cell_type": "code",
   "execution_count": null,
   "id": "bf5ae10b-2905-446a-9fe1-079ab6b6ccd9",
   "metadata": {},
   "outputs": [],
   "source": [
    "#count matches with match id in player id table\n",
    "\n",
    "SELECT COUNT(DISTINCT id) \n",
    "FROM `wpdbtt_api_matches`\n",
    "WHERE home_team_id IN (SELECT team_id FROM `wpdbtt_api_player`);"
   ]
  },
  {
   "cell_type": "code",
   "execution_count": null,
   "id": "42852032-e7d6-47c5-93db-a7e801aa7cce",
   "metadata": {},
   "outputs": [],
   "source": [
    "# venue table\n",
    "league, stadium, capacity, neutral\n",
    "#wpdbtt_api_team`\n",
    "home_team_id, home_coach_id, home_market_value, home_avg_height, home_avg_weight, home_country, home_total_players, home_foreigh_players,home_national_players, home_foundation_time,\n",
    "#`wpdbtt_api_lineup`\n",
    "home_avg_age, home_formation, home_injury,\n",
    "away_team_id, away_coach_id, away_market_vlue, away_avg_height, away_avg_weight, away_country, away_total_players, away_foreigh_players,away__national_players, away__foundation_time,\n",
    "away_avg_age, away_formation, away_injury,\n",
    "#h2h\n",
    "home_avg_gf_h2h, home_avg_ga_h2h, home_h2h_win, home_h2h_draw, home_h2h_lose, line_up_value,\n",
    "#recent 10 matches of home\n",
    "#wpdbtt_api_team_stats and `wpdbtt_api_matches` ( for home away position)\n",
    "home_avg_gf,home_position, home_avg_ga, home_red_cards, home_yellow_card, home_penalty, home_assists, home_shots, home_shots_on_target, home_dribble, home_dribble_succ, home_clearances, home_blocked_shots, home_interceptions, home_tackles, home_passes, home_passes_accuracy, home_key_passes, home_crosses, home_crosses_accuracy, home_long_balls, home_long_balls_accuracy, home_duels, home_duels_won, home_fouls, home_was_fouled, home_offsides, home_yellow2red_cards, home_corner_kicks, home_ball_possession, home_freekicks, home_freekick_goals, home_hit_woodwork, home_fastbreaks, home_fastbreak_shots, home_fastbreak_goals, home_poss_losts, \n",
    "away_avg_gf,away_position, away_avg_ga, away_red_cards, away_yellow_card,away_penalty, away_assists, away_shots, away_shots_on_target, away_dribble, away_dribble_succ, away_clearances, away_blocked_shots, away_interceptions, away_tackles, away_passes, away_passes_accuracy, away_key_passes, away_crosses, away_crosses_accuracy, away_long_balls, away_long_balls_accuracy, away_duels, away_duels_won, away_fouls, away_was_fouled, away_offsides, away_yellow2red_cards, away_corner_kicks, away_ball_possession, away_freekicks, away_freekick_goals, away_hit_woodwork, away_fastbreaks, away_fastbreak_shots, away_fastbreak_goals, away_poss_losts,\n",
    "#add more features:\n",
    "\n",
    "#wpdbtt_api_player\n",
    "save, pre_judment, handling_the_ball, air, tactics, attack, defense, creativity, technology,\n",
    "#coach \n",
    "age, preferred_formation, nationality\n",
    "\n",
    "#ignore the data for player\n"
   ]
  },
  {
   "cell_type": "code",
   "execution_count": 4,
   "id": "fe89069f-f328-43d7-901a-f678904f8573",
   "metadata": {},
   "outputs": [],
   "source": [
    "conn = pymysql.connect(\n",
    "        host='128.199.228.235', \n",
    "        user='sql_dabanhtructi', \n",
    "        password='FKb75AYJzFMJET8F', \n",
    "        database='sql_dabanhtructi',\n",
    "        #connect_timeout=30000,\n",
    "        port = 3306)\n",
    "cursor = conn.cursor()\n",
    "cursor.execute(\"\"\"SELECT m.id, m.competition_id, m.home_team_id, m.away_team_id,t.name as home_name, t2.team_id as away_team_id, t2.name as away_name, m.match_time, m.venue_id, v.name, v.city, v.country, v.capacity, m.neutral,m.home_position, m.away_position, l.away_formation, l.home_formation, l.injury, l.lineup, h.h2h, h.home, h.away, s.home_stats, s.away_stats, c.coach_id home_coach_id, c.name home_coach_name, c.birthday home_coach_dob,c.age age_coach, c.preferred_formation home_coach_preferred_formation, c.nationality home_coach_nationality,\n",
    "c2.coach_id away_coach_id, c2.name away_coach_name, c2.birthday away_coach_dob, c2.preferred_formation away_coach_preferred_formation, c2.nationality away_coach_nationality, m.home_scores, m.away_scores\n",
    "FROM `wpdbtt_api_matches` m\n",
    "LEFT JOIN`wpdbtt_api_venue` v\n",
    "ON m.venue_id = v.venue_id\n",
    "LEFT JOIN `wpdbtt_api_lineup` l \n",
    "ON l.match_id = m.id \n",
    "LEFT JOIN `wpdbtt_api_match_h2h` h \n",
    "ON h.match_id = m.id \n",
    "LEFT JOIN `wpdbtt_api_team_stats` s \n",
    "ON m.id = s.match_id\n",
    "LEFT JOIN `wpdbtt_api_team` t\n",
    "ON m.home_team_id = t.team_id \n",
    "LEFT JOIN `wpdbtt_api_team` t2\n",
    "ON m.away_team_id = t2.team_id\n",
    "LEFT JOIN `wpdbtt_api_coach` c \n",
    "ON c.team_id = m.home_team_id\n",
    "LEFT JOIN `wpdbtt_api_coach` c2\n",
    "ON c2.team_id = m.away_team_id\n",
    "LIMIT 5\"\"\")\n",
    "# Fetch all the rows in a list of lists.\n",
    "rows = cursor.fetchall()\n"
   ]
  },
  {
   "cell_type": "code",
   "execution_count": 5,
   "id": "c82e63ba-f2fe-4b3c-835a-7cd8b440f247",
   "metadata": {},
   "outputs": [
    {
     "name": "stdout",
     "output_type": "stream",
     "text": [
      "2y8m4zhw2yepql0\n",
      "l5ergphlkgv5r8k\n",
      "y39mp1h07108moj\n",
      "4jwq2ghzl7vxm0v\n",
      "4wyrn4hojw4pq86\n"
     ]
    }
   ],
   "source": [
    "\n",
    "# Save all data to python dictionary\n",
    "match_dict = {}\n",
    "for index,row in enumerate(rows):\n",
    "    print(row[0])"
   ]
  },
  {
   "cell_type": "code",
   "execution_count": null,
   "id": "eaa149b6-fe69-4ce8-a9e9-1b6fd20af948",
   "metadata": {},
   "outputs": [],
   "source": []
  }
 ],
 "metadata": {
  "kernelspec": {
   "display_name": "Python 3 (ipykernel)",
   "language": "python",
   "name": "python3"
  },
  "language_info": {
   "codemirror_mode": {
    "name": "ipython",
    "version": 3
   },
   "file_extension": ".py",
   "mimetype": "text/x-python",
   "name": "python",
   "nbconvert_exporter": "python",
   "pygments_lexer": "ipython3",
   "version": "3.11.5"
  }
 },
 "nbformat": 4,
 "nbformat_minor": 5
}
